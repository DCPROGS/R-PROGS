{
 "cells": [
  {
   "cell_type": "markdown",
   "metadata": {},
   "source": [
    "RANTEST performs a randomisation test to compare two independent samples.  According to the null hypothesis of    no-difference, each outcome would have been the same regardless of which group the individual happened to be allocated to.  Therefore all N = n1 + n2 observations are pooled and, as in the actual experiment, divided at random into groups of size n1 and n2.  The fraction of randomisations that gives rise to a difference between the groups at least as large as that observed gives the P value.\n",
    "\n",
    "In the binomial case, in which the measurement is the fraction of 'successes' in each sample (say r1 out of n1, and r2 out of n2) a 'success' is given a score of 1, 'failure' scores 0.\n",
    "Randomisation test on binomial data could be done using as criterion: \n",
    "(1) number of successes in set 1 (r1) or \n",
    "(2) difference between the p=r/n values.\n",
    "Both criteria give the same one-tail P value. Use of r1 as criterion is the direct Monte Carlo equivalent of summing the the exact Fisher test probabilities for the observed 2x2 table with those for all tables that depart further from the null hypothesis in the observed direction. A 2-tail probablilty can be found by doubling the one-tail value, at least if the displayed distribution is symmetrical. Use of (p1-p2) as criterion gives both one and two-tail     probabilities directly by seeing how many random allocations of the observations to groups of size n1 and n2 produce and absolute value of (p1-p2) at least as big as that observed."
   ]
  },
  {
   "cell_type": "code",
   "execution_count": 1,
   "metadata": {},
   "outputs": [],
   "source": [
    "%matplotlib inline\n",
    "import matplotlib\n",
    "import matplotlib.pyplot as plt\n",
    "import numpy as np\n",
    "\n",
    "#import sys\n",
    "import math\n",
    "import random"
   ]
  },
  {
   "cell_type": "code",
   "execution_count": 2,
   "metadata": {},
   "outputs": [],
   "source": [
    "# Samples from treatment T1 and T2\n",
    "T1 = [100, 108, 119, 127, 132, 135, 136] #, 164]\n",
    "T2 = [122, 130, 138, 142, 152, 154, 176]"
   ]
  },
  {
   "cell_type": "markdown",
   "metadata": {},
   "source": [
    "### Run randomisation tests"
   ]
  },
  {
   "cell_type": "code",
   "execution_count": 3,
   "metadata": {},
   "outputs": [],
   "source": [
    "class RantestContinuous():\n",
    "    def __init__(self, X, Y, are_paired=False):\n",
    "        \"\"\" \n",
    "        Parameters\n",
    "        ----------\n",
    "        X : observations in first trial, list of floats\n",
    "        Y : observations in second trial, list of floats\n",
    "        are_paired : are observations paired, boolean\n",
    "        \"\"\"   \n",
    "        self.X, self.Y = X, Y\n",
    "        self.nx, self.ny = len(X), len(Y)\n",
    "        self.are_paired = are_paired\n",
    "        random.seed(1984)\n",
    "        np.random.seed(1984)\n",
    "            \n",
    "    def run_rantest(self, nran, sampling='resample'):\n",
    "        \"\"\"Run randomisation\"\"\"\n",
    "        self.nran = nran\n",
    "        self.randiff = np.zeros(nran)\n",
    "        self.dbar = np.mean(self.X) - np.mean(self.Y)\n",
    "        allobs = np.concatenate([self.X, self.Y])\n",
    "        if sampling == 'resample':\n",
    "            for i in range(nran):\n",
    "                random.shuffle(allobs)\n",
    "                sy = sum(allobs[self.nx : ])\n",
    "                self.randiff[i] = (sum(allobs) - sy) / float(self.nx) - sy / float(self.ny)\n",
    "        elif sampling == 'bootstrap':\n",
    "            for i in range(nran):\n",
    "                x = random.choices(allobs, k=self.nx)\n",
    "                y = random.choices(allobs, k=self.ny)\n",
    "                self.randiff[i] = sum(x) / float(self.nx) - sum(y) / float(self.ny)\n",
    "        self.n2tail = self.randiff[np.fabs(self.randiff) >= math.fabs(self.dbar)].size\n",
    "        self.p2tail = self.n2tail / float(self.nran)\n",
    "                \n",
    "    def __repr__(self):\n",
    "        return ('Rantest:  {0:d} randomisations'.format(self.nran) +\n",
    "        '\\nTwo-tailed P = {0:.3f}'.format(self.p2tail) + \n",
    "        '\\t(greater than or equal in absolute value to observed)')"
   ]
  },
  {
   "cell_type": "code",
   "execution_count": 4,
   "metadata": {},
   "outputs": [
    {
     "name": "stdout",
     "output_type": "stream",
     "text": [
      "Rantest:  50000 randomisations\n",
      "Two-tailed P = 0.021\t(greater than or equal in absolute value to observed)\n"
     ]
    }
   ],
   "source": [
    "nran = 50000\n",
    "rnt = RantestContinuous(T1, T2, are_paired=False)    \n",
    "rnt.run_rantest(nran)\n",
    "print(rnt)"
   ]
  },
  {
   "cell_type": "code",
   "execution_count": 5,
   "metadata": {},
   "outputs": [
    {
     "name": "stdout",
     "output_type": "stream",
     "text": [
      "Red line: observed difference\n"
     ]
    },
    {
     "data": {
      "image/png": "[encoded data removed]",
      "text/plain": [
       "<Figure size 360x216 with 1 Axes>"
      ]
     },
     "metadata": {
      "needs_background": "light"
     },
     "output_type": "display_data"
    }
   ],
   "source": [
    "fig, ax  = plt.subplots(1,1, figsize=(5,3))\n",
    "ax.hist(rnt.randiff, 20)\n",
    "ax.axvline(x=rnt.dbar, color='r')\n",
    "ax.axvline(x=-rnt.dbar, color='r')\n",
    "ax.set_xlim([-40, 40])\n",
    "ax.set_ylabel(\"Frequency\")\n",
    "ax.set_xlabel('Random difference between means')\n",
    "print('Red line: observed difference')"
   ]
  },
  {
   "cell_type": "code",
   "execution_count": 6,
   "metadata": {},
   "outputs": [
    {
     "name": "stdout",
     "output_type": "stream",
     "text": [
      "Rantest:  50000 randomisations\n",
      "Two-tailed P = 0.024\t(greater than or equal in absolute value to observed)\n"
     ]
    }
   ],
   "source": [
    "rnt.run_rantest(nran, sampling='bootstrap')\n",
    "print(rnt)"
   ]
  },
  {
   "cell_type": "code",
   "execution_count": 7,
   "metadata": {},
   "outputs": [
    {
     "name": "stdout",
     "output_type": "stream",
     "text": [
      "Red line: observed difference\n"
     ]
    },
    {
     "data": {
      "image/png": "[encoded data removed]",
      "text/plain": [
       "<Figure size 360x216 with 1 Axes>"
      ]
     },
     "metadata": {
      "needs_background": "light"
     },
     "output_type": "display_data"
    }
   ],
   "source": [
    "fig, ax  = plt.subplots(1,1, figsize=(5,3))\n",
    "ax.hist(rnt.randiff, 20)\n",
    "ax.axvline(x=rnt.dbar, color='r')\n",
    "ax.axvline(x=-rnt.dbar, color='r')\n",
    "ax.set_xlim([-40, 40])\n",
    "ax.set_ylabel(\"Frequency\")\n",
    "ax.set_xlabel('Random difference between means')\n",
    "print('Red line: observed difference')"
   ]
  },
  {
   "cell_type": "code",
   "execution_count": null,
   "metadata": {},
   "outputs": [],
   "source": []
  }
 ],
 "metadata": {
  "kernelspec": {
   "display_name": "Python 3",
   "language": "python",
   "name": "python3"
  },
  "language_info": {
   "codemirror_mode": {
    "name": "ipython",
    "version": 3
   },
   "file_extension": ".py",
   "mimetype": "text/x-python",
   "name": "python",
   "nbconvert_exporter": "python",
   "pygments_lexer": "ipython3",
   "version": "3.6.6"
  }
 },
 "nbformat": 4,
 "nbformat_minor": 2
}
