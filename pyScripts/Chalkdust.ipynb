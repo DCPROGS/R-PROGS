{
 "cells": [
  {
   "cell_type": "markdown",
   "metadata": {},
   "source": [
    "# Two mean simulation"
   ]
  },
  {
   "cell_type": "code",
   "execution_count": 1,
   "metadata": {},
   "outputs": [],
   "source": [
    "%matplotlib inline\n",
    "from pylab import *"
   ]
  },
  {
   "cell_type": "code",
   "execution_count": 2,
   "metadata": {},
   "outputs": [],
   "source": [
    "import random\n",
    "import numpy as np\n",
    "import scipy.stats as stats\n",
    "import statsmodels.stats.api as sms"
   ]
  },
  {
   "cell_type": "code",
   "execution_count": 3,
   "metadata": {},
   "outputs": [],
   "source": [
    "#START INPUTS\n",
    "nsim = 10000  #number of re-amplings to run\n",
    "#define the two samples\n",
    "#test by using Cushny data\n",
    "n = 10\n",
    "sampA = np.array([0.7, -1.6, -0.2, -1.2, -0.1, 3.4, 3.7, 0.8, 0.0, 2.0])\n",
    "sampB = np.array([1.9, 0.8, 1.1, 0.1, -0.1, 4.4, 5.5, 1.6, 4.6, 3.4])\n",
    "#END OF INPUTS"
   ]
  },
  {
   "cell_type": "code",
   "execution_count": 4,
   "metadata": {},
   "outputs": [],
   "source": [
    "meanA = np.mean(sampA)\n",
    "meanB = np.mean(sampB)\n",
    "obsdif = meanA - meanB\n",
    "sdA = np.std(sampA)\n",
    "sdB = np.std(sampB)"
   ]
  },
  {
   "cell_type": "code",
   "execution_count": 5,
   "metadata": {},
   "outputs": [],
   "source": [
    "# Do t test\n",
    "t, p = stats.ttest_ind(sampA, sampB, equal_var=False, nan_policy='omit')"
   ]
  },
  {
   "cell_type": "code",
   "execution_count": 6,
   "metadata": {},
   "outputs": [],
   "source": [
    "# Do randomisation\n",
    "allobs = np.concatenate([sampA, sampB])\n",
    "randiff = np.zeros(nsim)\n",
    "for i in range(nsim):\n",
    "    random.shuffle(allobs)\n",
    "    sB = sum(allobs[n : ])\n",
    "    randiff[i] = (np.sum(allobs) - sB) / float(n) - sB / float(n)"
   ]
  },
  {
   "cell_type": "code",
   "execution_count": 7,
   "metadata": {},
   "outputs": [],
   "source": [
    "difmean = np.mean(randiff)\n",
    "difsd = np.std(randiff)\n",
    "nranlo = randiff[randiff <= obsdif].size \n",
    "nranhi = randiff[randiff >= -obsdif].size \n",
    "# proportion of values below obs diff\n",
    "ptoplo = nranlo / nsim\n",
    "# proportion of values above minus() obs diff)\n",
    "ptophi = nranhi / nsim\n",
    "#two-tail P\n",
    "p2tail = ptoplo + ptophi\n",
    "lo95lim = np.percentile(randiff, 2.5)\n",
    "hi95lim = np.percentile(randiff, 97.5)"
   ]
  },
  {
   "cell_type": "code",
   "execution_count": 8,
   "metadata": {},
   "outputs": [
    {
     "data": {
      "image/png": "[encoded data removed]",
      "text/plain": [
       "<Figure size 432x288 with 1 Axes>"
      ]
     },
     "metadata": {},
     "output_type": "display_data"
    }
   ],
   "source": [
    "plt.hist(randiff, bins=20)\n",
    "axvline(x=obsdif, color='r')\n",
    "axvline(x=lo95lim, color='k', linestyle='--')\n",
    "axvline(x=hi95lim, color='k', linestyle='--')\n",
    "xlabel('difference between means')\n",
    "ylabel('frequency');"
   ]
  },
  {
   "cell_type": "markdown",
   "metadata": {},
   "source": [
    "### Randomisation results"
   ]
  },
  {
   "cell_type": "code",
   "execution_count": 9,
   "metadata": {},
   "outputs": [
    {
     "name": "stdout",
     "output_type": "stream",
     "text": [
      "number of resamplings =  10000\n",
      "number obs per sample =  10\n",
      "sample A: [ 0.7 -1.6 -0.2 -1.2 -0.1  3.4  3.7  0.8  0.   2. ]\n",
      "sample B: [ 1.9  0.8  1.1  0.1 -0.1  4.4  5.5  1.6  4.6  3.4]\n",
      "mean for sample A = 0.75\n",
      "mean for sample B = 2.33\n",
      "Observed difference between means (A-B) = -1.58\n",
      "SD for sample A = 1.70\n",
      "SD for sample B = 1.90\n",
      "\n",
      "Result of t test:\n",
      "\tP value (two-tail) = 0.079 and t = -1.86\n",
      "\n",
      "randomisation distribution: \n",
      "\tmean = 0.01 and SD = 0.89\n",
      "\tquantiles (0.025 and 0.975) = -1.70 and 1.74\n",
      "\tArea below observed difference = 0.038\n",
      "\tArea above minus observed difference = 0.040\n",
      "\tTwo-tailed P value = 0.078\n"
     ]
    }
   ],
   "source": [
    "print(\"number of resamplings = \", nsim)\n",
    "print(\"number obs per sample = \", n)\n",
    "print(\"sample A:\", sampA)\n",
    "print(\"sample B:\", sampB)\n",
    "print(\"mean for sample A = {0:.2f}\".format(meanA))\n",
    "print(\"mean for sample B = {0:.2f}\".format(meanB))\n",
    "print(\"Observed difference between means (A-B) = {0:.2f}\".format(obsdif))\n",
    "print(\"SD for sample A = {0:.2f}\".format(sdA))\n",
    "print(\"SD for sample B = {0:.2f}\".format(sdB))\n",
    "print(\"\\nResult of t test:\")\n",
    "print(\"\\tP value (two-tail) = {0:.3f} and t = {1:.2f}\".format(p, t))\n",
    "print(\"\\nrandomisation distribution: \\n\\tmean = {0:.2f} and SD = {1:.2f}\".format(difmean, difsd))\n",
    "print(\"\\tquantiles (0.025 and 0.975) = {0:.2f} and {1:.2f}\".format(lo95lim, hi95lim))\n",
    "print(\"\\tArea below observed difference = {0:.3f}\".format(ptoplo))\n",
    "print(\"\\tArea above minus observed difference = {0:.3f}\".format(ptophi))\n",
    "print(\"\\tTwo-tailed P value = {0:.3f}\".format(p2tail))"
   ]
  },
  {
   "cell_type": "code",
   "execution_count": null,
   "metadata": {},
   "outputs": [],
   "source": []
  }
 ],
 "metadata": {
  "kernelspec": {
   "display_name": "Python 3",
   "language": "python",
   "name": "python3"
  },
  "language_info": {
   "codemirror_mode": {
    "name": "ipython",
    "version": 3
   },
   "file_extension": ".py",
   "mimetype": "text/x-python",
   "name": "python",
   "nbconvert_exporter": "python",
   "pygments_lexer": "ipython3",
   "version": "3.6.5"
  }
 },
 "nbformat": 4,
 "nbformat_minor": 2
}
