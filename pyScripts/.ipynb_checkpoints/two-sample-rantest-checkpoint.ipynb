{
 "cells": [
  {
   "cell_type": "markdown",
   "metadata": {},
   "source": [
    "# RANTEST: Two_mean_simulation"
   ]
  },
  {
   "cell_type": "code",
   "execution_count": 1,
   "metadata": {},
   "outputs": [],
   "source": [
    "import math\n",
    "import random\n",
    "import numpy as np\n",
    "import scipy.stats as stats"
   ]
  },
  {
   "cell_type": "code",
   "execution_count": 2,
   "metadata": {},
   "outputs": [],
   "source": [
    "#START INPUTS\n",
    "nsim = 10000  #number of re-amplings to run\n",
    "#define the two samples\n",
    "n = 10\n",
    "sampA = np.array([0.7, -1.6, -0.2, -1.2, -0.1, 3.4, 3.7, 0.8, 0.0, 2])\n",
    "sampB = np.array([1.9, 0.8, 1.1, 0.1, -0.1, 4.4, 5.5, 1.6, 4.6, 3.4])\n",
    "#END OF INPUTS"
   ]
  },
  {
   "cell_type": "code",
   "execution_count": 3,
   "metadata": {},
   "outputs": [],
   "source": [
    "meanA = np.mean(sampA)\n",
    "meanB = np.mean(sampB)\n",
    "obsdif = meanA - meanB\n",
    "sdA = np.std(sampA)\n",
    "sdB = np.std(sampB)"
   ]
  },
  {
   "cell_type": "code",
   "execution_count": 4,
   "metadata": {},
   "outputs": [],
   "source": [
    "# Do t test\n",
    "t, p = stats.ttest_ind(sampA, sampB, equal_var=False, nan_policy='omit')\n",
    "#low, high = stats.t.interval(0.95, len(sd)-1, loc=np.mean(sd), scale=stats.sem(sd))"
   ]
  },
  {
   "cell_type": "code",
   "execution_count": 5,
   "metadata": {},
   "outputs": [],
   "source": [
    "#put all obs into one array\n",
    "allobs = np.concatenate((sampA, sampB))\n",
    "totobs = np.sum(allobs)"
   ]
  },
  {
   "cell_type": "code",
   "execution_count": 6,
   "metadata": {},
   "outputs": [
    {
     "name": "stdout",
     "output_type": "stream",
     "text": [
      "9195 10000\n"
     ]
    }
   ],
   "source": [
    "#random.seed(1984)\n",
    "difmean = np.zeros(nsim)\n",
    "for i in range(nsim):\n",
    "    random.shuffle(allobs)\n",
    "    sumB = sum(allobs[n : ])\n",
    "    difmean[i] = (totobs - sumB) / float(n) - sumB / float(n)\n",
    "nranlo = difmean[np.fabs(difmean) <= math.fabs(obsdif)].size\n",
    "nranhi = difmean[np.fabs(difmean) >= -math.fabs(obsdif)].size\n",
    "print(nranlo, nranhi)"
   ]
  }
 ],
 "metadata": {
  "kernelspec": {
   "display_name": "Python 3",
   "language": "python",
   "name": "python3"
  },
  "language_info": {
   "codemirror_mode": {
    "name": "ipython",
    "version": 3
   },
   "file_extension": ".py",
   "mimetype": "text/x-python",
   "name": "python",
   "nbconvert_exporter": "python",
   "pygments_lexer": "ipython3",
   "version": "3.6.6"
  }
 },
 "nbformat": 4,
 "nbformat_minor": 2
}
